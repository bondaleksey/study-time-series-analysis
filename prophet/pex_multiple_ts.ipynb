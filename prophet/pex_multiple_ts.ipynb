{
 "cells": [
  {
   "cell_type": "markdown",
   "metadata": {},
   "source": [
    "Start working with article [Multiple Time Series Forecasting][1]\n",
    "\n",
    "[1]: https://forecastegy.com/posts/multiple-time-series-forecasting-with-prophet-in-python/"
   ]
  },
  {
   "cell_type": "code",
   "execution_count": null,
   "metadata": {},
   "outputs": [],
   "source": []
  }
 ],
 "metadata": {
  "language_info": {
   "name": "python"
  },
  "orig_nbformat": 4
 },
 "nbformat": 4,
 "nbformat_minor": 2
}
