{
 "cells": [
  {
   "cell_type": "markdown",
   "metadata": {},
   "source": [
    "For inspiration, check out Kaggle's previous forecasting competitions. Studying winning competition solutions is a great way to upgrade your skills.\n",
    "\n",
    "- [Corporación Favorita][1]: the competition Store Sales is derived from.\n",
    "- [Rossmann Store Sales][2]\n",
    "- [Wikipedia Web Traffic][3]\n",
    "- [Walmart Store Sales][4]\n",
    "- [Walmart Sales in Stormy Weather][5]\n",
    "- [M5 Forecasting - Accuracy][6]\n",
    "\n",
    "[1]: https://www.kaggle.com/c/favorita-grocery-sales-forecasting\n",
    "[2]: https://www.kaggle.com/c/rossmann-store-sales\n",
    "[3]: https://www.kaggle.com/c/web-traffic-time-series-forecasting/\n",
    "[4]: https://www.kaggle.com/c/walmart-recruiting-store-sales-forecasting\n",
    "[5]: https://www.kaggle.com/c/walmart-recruiting-sales-in-stormy-weather\n",
    "[6]: https://www.kaggle.com/c/m5-forecasting-accuracy"
   ]
  },
  {
   "cell_type": "markdown",
   "metadata": {},
   "source": [
    "# References\n",
    "Here are some great resources you might like to consult for more on time series and forecasting. They all played a part in shaping this course:\n",
    "\n",
    "- Learnings from Kaggle's forecasting competitions, an article by Casper Solheim Bojer and Jens Peder Meldgaard.\n",
    "- Forecasting: Principles and Practice, a book by Rob J Hyndmann and George Athanasopoulos.\n",
    "- Practical Time Series Forecasting with R, a book by Galit Shmueli and Kenneth C. Lichtendahl Jr.\n",
    "- Time Series Analysis and Its Applications, a book by Robert H. Shumway and David S. Stoffer.\n",
    "- Machine learning strategies for time series forecasting, an article by Gianluca Bontempi, Souhaib Ben Taieb, and Yann-Aël Le Borgne.\n",
    "- On the use of cross-validation for time series predictor evaluation, an article by Christoph Bergmeir and José M. Benítez."
   ]
  },
  {
   "cell_type": "code",
   "execution_count": null,
   "metadata": {},
   "outputs": [],
   "source": []
  }
 ],
 "metadata": {
  "language_info": {
   "name": "python"
  }
 },
 "nbformat": 4,
 "nbformat_minor": 2
}
